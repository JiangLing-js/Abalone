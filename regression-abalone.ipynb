{
 "cells": [
  {
   "cell_type": "code",
   "execution_count": 1,
   "id": "e4064f9f",
   "metadata": {
    "_cell_guid": "b1076dfc-b9ad-4769-8c92-a6c4dae69d19",
    "_uuid": "8f2839f25d086af736a60e9eeb907d3b93b6e0e5",
    "execution": {
     "iopub.execute_input": "2024-04-13T16:09:34.042609Z",
     "iopub.status.busy": "2024-04-13T16:09:34.041893Z",
     "iopub.status.idle": "2024-04-13T16:09:36.530107Z",
     "shell.execute_reply": "2024-04-13T16:09:36.528896Z"
    },
    "papermill": {
     "duration": 2.499444,
     "end_time": "2024-04-13T16:09:36.533047",
     "exception": false,
     "start_time": "2024-04-13T16:09:34.033603",
     "status": "completed"
    },
    "tags": []
   },
   "outputs": [
    {
     "name": "stdout",
     "output_type": "stream",
     "text": [
      "/kaggle/input/abalone1/abalone.csv\n",
      "/kaggle/input/playground-series-s4e4/sample_submission.csv\n",
      "/kaggle/input/playground-series-s4e4/train.csv\n",
      "/kaggle/input/playground-series-s4e4/test.csv\n"
     ]
    }
   ],
   "source": [
    "# This Python 3 environment comes with many helpful analytics libraries installed\n",
    "# It is defined by the kaggle/python Docker image: https://github.com/kaggle/docker-python\n",
    "# For example, here's several helpful packages to load\n",
    "\n",
    "import numpy as np # linear algebra\n",
    "import pandas as pd # data processing, CSV file I/O (e.g. pd.read_csv)\n",
    "\n",
    "# Input data files are available in the read-only \"../input/\" directory\n",
    "# For example, running this (by clicking run or pressing Shift+Enter) will list all files under the input directory\n",
    "\n",
    "import os\n",
    "for dirname, _, filenames in os.walk('/kaggle/input'):\n",
    "    for filename in filenames:\n",
    "        print(os.path.join(dirname, filename))\n",
    "from xgboost import XGBRegressor\n",
    "from sklearn.metrics import mean_squared_error\n",
    "\n",
    "# You can write up to 20GB to the current directory (/kaggle/working/) that gets preserved as output when you create a version using \"Save & Run All\" \n",
    "# You can also write temporary files to /kaggle/temp/, but they won't be saved outside of the current session"
   ]
  },
  {
   "cell_type": "code",
   "execution_count": 2,
   "id": "ca005495",
   "metadata": {
    "execution": {
     "iopub.execute_input": "2024-04-13T16:09:36.544549Z",
     "iopub.status.busy": "2024-04-13T16:09:36.543723Z",
     "iopub.status.idle": "2024-04-13T16:09:36.925396Z",
     "shell.execute_reply": "2024-04-13T16:09:36.924447Z"
    },
    "papermill": {
     "duration": 0.390083,
     "end_time": "2024-04-13T16:09:36.927929",
     "exception": false,
     "start_time": "2024-04-13T16:09:36.537846",
     "status": "completed"
    },
    "tags": []
   },
   "outputs": [
    {
     "name": "stdout",
     "output_type": "stream",
     "text": [
      "   Length  Diameter  Height  Whole weight  Whole weight.1  Whole weight.2  \\\n",
      "0   0.455     0.365   0.095        0.5140          0.2245          0.1010   \n",
      "1   0.350     0.265   0.090        0.2255          0.0995          0.0485   \n",
      "2   0.530     0.420   0.135        0.6770          0.2565          0.1415   \n",
      "\n",
      "   Shell weight  Rings  Sex_F  Sex_I  Sex_M  \n",
      "0          0.15     15  False  False   True  \n",
      "1          0.07      7  False  False   True  \n",
      "2          0.21      9   True  False  False  \n"
     ]
    }
   ],
   "source": [
    "train_dataset_root = r\"/kaggle/input/playground-series-s4e4/train.csv\"\n",
    "train_dataset_root2 = r\"/kaggle/input/abalone1/abalone.csv\"\n",
    "test_dataset_root = r\"/kaggle/input/playground-series-s4e4/test.csv\"\n",
    "train_dataset = pd.read_csv(train_dataset_root)\n",
    "# one hot\n",
    "train_dataset = pd.get_dummies(train_dataset, columns=['Sex'])\n",
    "test_dataset = pd.read_csv(test_dataset_root)\n",
    "test_dataset = pd.get_dummies(test_dataset, columns=['Sex'])\n",
    "# print(train_dataset.head(3))\n",
    "train_dataset2 = pd.read_csv(train_dataset_root2)\n",
    "train_dataset2 = pd.get_dummies(train_dataset2, columns=['Sex'])\n",
    "train_dataset2 = train_dataset2.rename(columns={'Shucked weight': 'Whole weight.1', 'Viscera weight': 'Whole weight.2'})\n",
    "print(train_dataset2.head(3))"
   ]
  },
  {
   "cell_type": "code",
   "execution_count": 3,
   "id": "517aeeb2",
   "metadata": {
    "execution": {
     "iopub.execute_input": "2024-04-13T16:09:36.938945Z",
     "iopub.status.busy": "2024-04-13T16:09:36.938354Z",
     "iopub.status.idle": "2024-04-13T16:09:37.029129Z",
     "shell.execute_reply": "2024-04-13T16:09:37.027627Z"
    },
    "papermill": {
     "duration": 0.099421,
     "end_time": "2024-04-13T16:09:37.031943",
     "exception": false,
     "start_time": "2024-04-13T16:09:36.932522",
     "status": "completed"
    },
    "tags": []
   },
   "outputs": [
    {
     "name": "stdout",
     "output_type": "stream",
     "text": [
      "Shape of X: (90615, 10)\n",
      "Shape of X2: (4177, 10)\n",
      "[[0.55 0.43 0.15 ... True False False]\n",
      " [0.63 0.49 0.145 ... True False False]\n",
      " [0.16 0.11 0.025 ... False True False]\n",
      " ...\n",
      " [0.6 0.475 0.205 ... False False True]\n",
      " [0.625 0.485 0.15 ... True False False]\n",
      " [0.71 0.555 0.195 ... False False True]]\n",
      "[[0.455 0.365 0.095 ... False False True]\n",
      " [0.35 0.265 0.09 ... False False True]\n",
      " [0.53 0.42 0.135 ... True False False]\n",
      " ...\n",
      " [0.6 0.475 0.205 ... False False True]\n",
      " [0.625 0.485 0.15 ... True False False]\n",
      " [0.71 0.555 0.195 ... False False True]]\n",
      "[11 11  6 ...  9 10 12]\n"
     ]
    }
   ],
   "source": [
    "X = train_dataset.drop(columns=[\"id\",\"Rings\"]).values  # feature\n",
    "X2 = train_dataset2.drop(columns=[\"Rings\"]).values\n",
    "print(\"Shape of X:\", X.shape)\n",
    "print(\"Shape of X2:\", X2.shape)\n",
    "X = np.concatenate((X, X2), axis=0)\n",
    "y = train_dataset['Rings'].values  # label\n",
    "y2 = train_dataset2['Rings'].values  # label\n",
    "y = np.concatenate((y, y2), axis=0)\n",
    "print(X)\n",
    "print(X2)\n",
    "print(y)"
   ]
  },
  {
   "cell_type": "markdown",
   "id": "e5832248",
   "metadata": {
    "papermill": {
     "duration": 0.004285,
     "end_time": "2024-04-13T16:09:37.040947",
     "exception": false,
     "start_time": "2024-04-13T16:09:37.036662",
     "status": "completed"
    },
    "tags": []
   },
   "source": [
    "# **Preprocess**"
   ]
  },
  {
   "cell_type": "code",
   "execution_count": 4,
   "id": "3aec3a46",
   "metadata": {
    "execution": {
     "iopub.execute_input": "2024-04-13T16:09:37.051822Z",
     "iopub.status.busy": "2024-04-13T16:09:37.051416Z",
     "iopub.status.idle": "2024-04-13T16:09:40.931737Z",
     "shell.execute_reply": "2024-04-13T16:09:40.930608Z"
    },
    "papermill": {
     "duration": 3.888848,
     "end_time": "2024-04-13T16:09:40.934443",
     "exception": false,
     "start_time": "2024-04-13T16:09:37.045595",
     "status": "completed"
    },
    "tags": []
   },
   "outputs": [],
   "source": [
    "from sklearn.preprocessing import StandardScaler\n",
    "import torch\n",
    "import torch.nn as nn\n",
    "import torch.optim as optim\n",
    "from sklearn.model_selection import train_test_split\n",
    "scaler = StandardScaler()\n",
    "X_scaled = scaler.fit_transform(X)\n",
    "X_train, X_val, y_train, y_val = train_test_split(X_scaled, y, test_size=0.2, random_state=42)\n",
    "\n"
   ]
  },
  {
   "cell_type": "code",
   "execution_count": 5,
   "id": "f3582100",
   "metadata": {
    "execution": {
     "iopub.execute_input": "2024-04-13T16:09:40.945769Z",
     "iopub.status.busy": "2024-04-13T16:09:40.945242Z",
     "iopub.status.idle": "2024-04-13T16:09:41.528374Z",
     "shell.execute_reply": "2024-04-13T16:09:41.527324Z"
    },
    "papermill": {
     "duration": 0.592441,
     "end_time": "2024-04-13T16:09:41.531581",
     "exception": false,
     "start_time": "2024-04-13T16:09:40.939140",
     "status": "completed"
    },
    "tags": []
   },
   "outputs": [
    {
     "name": "stdout",
     "output_type": "stream",
     "text": [
      "Validation RMSE: 1.8624415950332058\n"
     ]
    }
   ],
   "source": [
    "xgb_model = XGBRegressor()\n",
    "xgb_model.fit(X_train, y_train)\n",
    "# 在验证集上进行预测\n",
    "y_val_pred = xgb_model.predict(X_val)\n",
    "\n",
    "# 评估模型\n",
    "val_rmse = mean_squared_error(y_val, y_val_pred, squared=False)\n",
    "print(\"Validation RMSE:\", val_rmse)"
   ]
  },
  {
   "cell_type": "code",
   "execution_count": 6,
   "id": "5b77da4c",
   "metadata": {
    "execution": {
     "iopub.execute_input": "2024-04-13T16:09:41.546187Z",
     "iopub.status.busy": "2024-04-13T16:09:41.545770Z",
     "iopub.status.idle": "2024-04-13T16:09:41.553480Z",
     "shell.execute_reply": "2024-04-13T16:09:41.552057Z"
    },
    "papermill": {
     "duration": 0.017877,
     "end_time": "2024-04-13T16:09:41.556020",
     "exception": false,
     "start_time": "2024-04-13T16:09:41.538143",
     "status": "completed"
    },
    "tags": []
   },
   "outputs": [],
   "source": [
    "# X_train_tensor = torch.tensor(X_train, dtype=torch.float32)\n",
    "# y_train_tensor = torch.tensor(y_train, dtype=torch.float32)\n",
    "# X_val_tensor = torch.tensor(X_val, dtype=torch.float32)\n",
    "# y_val_tensor = torch.tensor(y_val, dtype=torch.float32)\n",
    "# class DNN(nn.Module):\n",
    "#     def __init__(self, input_size, hidden_size1, hidden_size2):\n",
    "#         super(DNN, self).__init__()\n",
    "#         self.fc1 = nn.Linear(input_size, hidden_size1)\n",
    "#         self.relu = nn.ReLU()\n",
    "#         self.fc2 = nn.Linear(hidden_size1, hidden_size2)\n",
    "#         self.fc3 = nn.Linear(hidden_size2, 1)\n",
    "\n",
    "#     def forward(self, x):\n",
    "#         out = self.fc1(x)\n",
    "#         out = self.relu(out)\n",
    "#         out = self.fc2(out)\n",
    "#         out = self.relu(out)\n",
    "#         out = self.fc3(out)\n",
    "#         return out\n",
    "\n",
    "    \n",
    "# input_size = X_train.shape[1]\n",
    "# hidden_size1 = 64\n",
    "# hidden_size2 = 32\n",
    "# model = DNN(input_size, hidden_size1, hidden_size2)\n",
    "\n",
    "# criterion = nn.MSELoss()\n",
    "# optimizer = optim.Adam(model.parameters(), lr=0.001)\n",
    "\n",
    "# # 训练模型\n",
    "# num_epochs = 1000\n",
    "# for epoch in range(num_epochs):\n",
    "#     # 前向传播\n",
    "#     outputs = model(X_train_tensor)\n",
    "#     loss = criterion(outputs, y_train_tensor.view(-1, 1))\n",
    "\n",
    "#     # 反向传播和优化\n",
    "#     optimizer.zero_grad()\n",
    "#     loss.backward()\n",
    "#     optimizer.step()\n",
    "\n",
    "#     # 每10个epoch打印一次训练信息\n",
    "#     if epoch % 10 == 0:\n",
    "#         print(f'Epoch {epoch}, Loss: {loss.item():.4f}')\n",
    "    \n",
    "# with torch.no_grad():\n",
    "#     val_outputs = model(X_val_tensor)\n",
    "#     val_loss = criterion(val_outputs, y_val_tensor.view(-1, 1))\n",
    "#     print(f'Validation Loss: {val_loss.item():.4f}')"
   ]
  },
  {
   "cell_type": "code",
   "execution_count": 7,
   "id": "98021bf2",
   "metadata": {
    "execution": {
     "iopub.execute_input": "2024-04-13T16:09:41.567409Z",
     "iopub.status.busy": "2024-04-13T16:09:41.566992Z",
     "iopub.status.idle": "2024-04-13T16:09:41.571705Z",
     "shell.execute_reply": "2024-04-13T16:09:41.570606Z"
    },
    "papermill": {
     "duration": 0.013334,
     "end_time": "2024-04-13T16:09:41.574132",
     "exception": false,
     "start_time": "2024-04-13T16:09:41.560798",
     "status": "completed"
    },
    "tags": []
   },
   "outputs": [],
   "source": [
    "# X = test_dataset.drop(columns=[\"id\"]).values\n",
    "# test_id = test_dataset[\"id\"].values\n",
    "# print(X)\n",
    "# test_scaled = scaler.fit_transform(X)\n",
    "# test_tensor = torch.tensor(test_scaled, dtype=torch.float32)\n",
    "# with torch.no_grad():\n",
    "#     test_outputs = model(test_tensor).numpy()\n",
    "# result_df = pd.DataFrame({'id': test_id, 'Rings': test_outputs.flatten()})\n",
    "# # 将DataFrame保存到CSV文件中\n",
    "# result_df.to_csv('submission.csv', index=False)"
   ]
  },
  {
   "cell_type": "code",
   "execution_count": 8,
   "id": "9379896d",
   "metadata": {
    "execution": {
     "iopub.execute_input": "2024-04-13T16:09:41.585637Z",
     "iopub.status.busy": "2024-04-13T16:09:41.584911Z",
     "iopub.status.idle": "2024-04-13T16:09:41.958707Z",
     "shell.execute_reply": "2024-04-13T16:09:41.957625Z"
    },
    "papermill": {
     "duration": 0.382865,
     "end_time": "2024-04-13T16:09:41.961725",
     "exception": false,
     "start_time": "2024-04-13T16:09:41.578860",
     "status": "completed"
    },
    "tags": []
   },
   "outputs": [
    {
     "name": "stdout",
     "output_type": "stream",
     "text": [
      "[[0.645 0.475 0.155 ... False False True]\n",
      " [0.58 0.46 0.16 ... False False True]\n",
      " [0.56 0.42 0.14 ... False False True]\n",
      " ...\n",
      " [0.59 0.44 0.155 ... False True False]\n",
      " [0.66 0.525 0.19 ... True False False]\n",
      " [0.43 0.34 0.12 ... True False False]]\n"
     ]
    }
   ],
   "source": [
    "X = test_dataset.drop(columns=[\"id\"]).values\n",
    "test_id = test_dataset[\"id\"].values\n",
    "print(X)\n",
    "test_scaled = scaler.fit_transform(X)\n",
    "\n",
    "test_outputs = xgb_model.predict(test_scaled)\n",
    "result_df = pd.DataFrame({'id': test_id, 'Rings': test_outputs.flatten()})\n",
    "# 将DataFrame保存到CSV文件中\n",
    "result_df.to_csv('submission.csv', index=False)"
   ]
  }
 ],
 "metadata": {
  "kaggle": {
   "accelerator": "none",
   "dataSources": [
    {
     "databundleVersionId": 8096274,
     "sourceId": 72489,
     "sourceType": "competition"
    },
    {
     "datasetId": 4790313,
     "sourceId": 8109578,
     "sourceType": "datasetVersion"
    }
   ],
   "dockerImageVersionId": 30684,
   "isGpuEnabled": false,
   "isInternetEnabled": true,
   "language": "python",
   "sourceType": "notebook"
  },
  "kernelspec": {
   "display_name": "Python 3",
   "language": "python",
   "name": "python3"
  },
  "language_info": {
   "codemirror_mode": {
    "name": "ipython",
    "version": 3
   },
   "file_extension": ".py",
   "mimetype": "text/x-python",
   "name": "python",
   "nbconvert_exporter": "python",
   "pygments_lexer": "ipython3",
   "version": "3.10.13"
  },
  "papermill": {
   "default_parameters": {},
   "duration": 12.082759,
   "end_time": "2024-04-13T16:09:43.089703",
   "environment_variables": {},
   "exception": null,
   "input_path": "__notebook__.ipynb",
   "output_path": "__notebook__.ipynb",
   "parameters": {},
   "start_time": "2024-04-13T16:09:31.006944",
   "version": "2.5.0"
  }
 },
 "nbformat": 4,
 "nbformat_minor": 5
}
